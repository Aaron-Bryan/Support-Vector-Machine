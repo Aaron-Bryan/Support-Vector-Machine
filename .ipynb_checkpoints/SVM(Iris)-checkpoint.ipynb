{
 "cells": [
  {
   "cell_type": "markdown",
   "id": "5a7de0f1",
   "metadata": {},
   "source": [
    "## Import"
   ]
  },
  {
   "cell_type": "code",
   "execution_count": 1,
   "id": "3c57e56d",
   "metadata": {},
   "outputs": [],
   "source": [
    "import matplotlib.pyplot as plt\n",
    "import numpy as np\n",
    "import pandas as pd\n",
    "from sklearn import  svm\n",
    "from sklearn.utils import shuffle\n",
    "from sklearn.model_selection import train_test_split\n",
    "from sklearn.metrics import accuracy_score"
   ]
  },
  {
   "cell_type": "markdown",
   "id": "a1def1e5",
   "metadata": {},
   "source": [
    "## Load Dataset"
   ]
  },
  {
   "cell_type": "code",
   "execution_count": 2,
   "id": "a4de9d66",
   "metadata": {},
   "outputs": [],
   "source": [
    "df = pd.read_csv(\"Iris.csv\")\n",
    "df = df.drop([\"Id\"], axis = 1)\n",
    "\n",
    "target = df[\"Species\"]\n",
    "container = set()\n",
    "\n",
    "for val in target:\n",
    "    container.add(val)\n",
    "    \n",
    "container = list(container)\n",
    "rows = list(range(100, 150))\n",
    "df = df.drop(df.index[rows])"
   ]
  },
  {
   "cell_type": "code",
   "execution_count": 3,
   "id": "d5e295cf",
   "metadata": {},
   "outputs": [
    {
     "data": {
      "text/plain": [
       "<matplotlib.collections.PathCollection at 0x1c3955ca6a0>"
      ]
     },
     "execution_count": 3,
     "metadata": {},
     "output_type": "execute_result"
    },
    {
     "data": {
      "image/png": "[encoded data removed]",
      "text/plain": [
       "<Figure size 432x288 with 1 Axes>"
      ]
     },
     "metadata": {
      "needs_background": "light"
     },
     "output_type": "display_data"
    }
   ],
   "source": [
    "sepal_length = df[\"SepalLengthCm\"]\n",
    "petal_length = df[\"PetalLengthCm\"]\n",
    "\n",
    "setosa_x = sepal_length[:50]\n",
    "setosa_y = petal_length[:50]\n",
    "\n",
    "versicolor_x = sepal_length[50:]\n",
    "versicolor_y = petal_length[50:]\n",
    "    \n",
    "plt.scatter(setosa_x, setosa_y)\n",
    "plt.scatter(versicolor_x, versicolor_y)"
   ]
  },
  {
   "cell_type": "markdown",
   "id": "c6d00480",
   "metadata": {},
   "source": [
    "## Drop rest of the features and extract the target values"
   ]
  },
  {
   "cell_type": "code",
   "execution_count": 4,
   "id": "39fd0e06",
   "metadata": {},
   "outputs": [],
   "source": [
    "df = df.drop(['SepalWidthCm','PetalWidthCm'], axis = 1)\n",
    "y = []\n",
    "target = df['Species']\n",
    "\n",
    "for val in target:\n",
    "    if(val == 'Iris-setosa'):\n",
    "        y.append(-1)\n",
    "    else:\n",
    "        y.append(1)\n",
    "        \n",
    "df = df.drop(['Species'],axis=1)\n",
    "x = df.values.tolist()"
   ]
  },
  {
   "cell_type": "markdown",
   "id": "0881a69d",
   "metadata": {},
   "source": [
    "## Shuffle and split the data into training and test set"
   ]
  },
  {
   "cell_type": "code",
   "execution_count": 5,
   "id": "2c4d5b13",
   "metadata": {},
   "outputs": [],
   "source": [
    "x, y = shuffle(x, y)\n",
    "x_train = []\n",
    "y_train = []\n",
    "x_test = []\n",
    "y_test = []\n",
    "\n",
    "x_train, x_test, y_train, y_test = train_test_split(x, y, train_size=0.30)\n",
    "\n",
    "x_train = np.array(x_train)\n",
    "y_train = np.array(y_train)\n",
    "x_test = np.array(x_test)\n",
    "y_test = np.array(y_test)\n",
    "\n",
    "y_train = y_train.reshape(30,1)\n",
    "y_test = y_test.reshape(70,1)\n",
    "\n",
    "#flatten y_train\n",
    "y_train = np.ravel(y_train)"
   ]
  },
  {
   "cell_type": "code",
   "execution_count": 6,
   "id": "f72eb6fa",
   "metadata": {},
   "outputs": [],
   "source": [
    "clf = svm.SVC(kernel=\"linear\", C=1.0)"
   ]
  },
  {
   "cell_type": "code",
   "execution_count": 7,
   "id": "6f27cf3c",
   "metadata": {},
   "outputs": [
    {
     "data": {
      "text/plain": [
       "SVC(kernel='linear')"
      ]
     },
     "execution_count": 7,
     "metadata": {},
     "output_type": "execute_result"
    }
   ],
   "source": [
    "clf.fit(x_train, y_train)"
   ]
  },
  {
   "cell_type": "code",
   "execution_count": 8,
   "id": "6a94c784",
   "metadata": {},
   "outputs": [
    {
     "data": {
      "image/png": "[encoded data removed]",
      "text/plain": [
       "<Figure size 432x288 with 1 Axes>"
      ]
     },
     "metadata": {
      "needs_background": "light"
     },
     "output_type": "display_data"
    }
   ],
   "source": [
    "# get the weight values for the linear equation from the trained SVM model\n",
    "w = clf.coef_[0]\n",
    "\n",
    "# get the y-offset for the linear equation\n",
    "a = -w[0] / w[1]\n",
    "\n",
    "# make the x-axis space for the data points\n",
    "x = np.linspace(0, 10)\n",
    "\n",
    "# get the y-values to plot the decision boundary\n",
    "y = a * x - clf.intercept_[0] / w[1]\n",
    "\n",
    "# plot the decision boundary\n",
    "plt.plot(x, y, 'k-')\n",
    "\n",
    "# show the plot visually\n",
    "plt.scatter(x_train[:, 0], x_train[:, 1], c=y_train)\n",
    "plt.show()"
   ]
  },
  {
   "cell_type": "code",
   "execution_count": null,
   "id": "e1b0ed99",
   "metadata": {},
   "outputs": [],
   "source": []
  }
 ],
 "metadata": {
  "kernelspec": {
   "display_name": "Python 3",
   "language": "python",
   "name": "python3"
  },
  "language_info": {
   "codemirror_mode": {
    "name": "ipython",
    "version": 3
   },
   "file_extension": ".py",
   "mimetype": "text/x-python",
   "name": "python",
   "nbconvert_exporter": "python",
   "pygments_lexer": "ipython3",
   "version": "3.8.8"
  }
 },
 "nbformat": 4,
 "nbformat_minor": 5
}
